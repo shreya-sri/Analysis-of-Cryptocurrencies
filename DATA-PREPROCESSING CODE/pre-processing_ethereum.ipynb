{
 "cells": [
  {
   "cell_type": "code",
   "execution_count": 1,
   "metadata": {},
   "outputs": [],
   "source": [
    "import pandas as pd\n",
    "import numpy as np\n",
    "df = pd.read_csv(\"ethereum_price.csv\", parse_dates=['Date'])"
   ]
  },
  {
   "cell_type": "code",
   "execution_count": 2,
   "metadata": {},
   "outputs": [
    {
     "data": {
      "text/plain": [
       "Date          datetime64[ns]\n",
       "Open                 float64\n",
       "High                 float64\n",
       "Low                  float64\n",
       "Close                float64\n",
       "Volume                object\n",
       "Market Cap            object\n",
       "dtype: object"
      ]
     },
     "execution_count": 2,
     "metadata": {},
     "output_type": "execute_result"
    }
   ],
   "source": [
    "df.dtypes"
   ]
  },
  {
   "cell_type": "code",
   "execution_count": 3,
   "metadata": {},
   "outputs": [
    {
     "data": {
      "text/html": [
       "<div>\n",
       "<style scoped>\n",
       "    .dataframe tbody tr th:only-of-type {\n",
       "        vertical-align: middle;\n",
       "    }\n",
       "\n",
       "    .dataframe tbody tr th {\n",
       "        vertical-align: top;\n",
       "    }\n",
       "\n",
       "    .dataframe thead th {\n",
       "        text-align: right;\n",
       "    }\n",
       "</style>\n",
       "<table border=\"1\" class=\"dataframe\">\n",
       "  <thead>\n",
       "    <tr style=\"text-align: right;\">\n",
       "      <th></th>\n",
       "      <th>Open</th>\n",
       "      <th>High</th>\n",
       "      <th>Low</th>\n",
       "      <th>Close</th>\n",
       "    </tr>\n",
       "  </thead>\n",
       "  <tbody>\n",
       "    <tr>\n",
       "      <th>count</th>\n",
       "      <td>929.000000</td>\n",
       "      <td>929.000000</td>\n",
       "      <td>929.000000</td>\n",
       "      <td>929.000000</td>\n",
       "    </tr>\n",
       "    <tr>\n",
       "      <th>mean</th>\n",
       "      <td>146.897500</td>\n",
       "      <td>154.363413</td>\n",
       "      <td>139.114778</td>\n",
       "      <td>147.784327</td>\n",
       "    </tr>\n",
       "    <tr>\n",
       "      <th>std</th>\n",
       "      <td>263.218553</td>\n",
       "      <td>277.620377</td>\n",
       "      <td>247.137437</td>\n",
       "      <td>264.130846</td>\n",
       "    </tr>\n",
       "    <tr>\n",
       "      <th>min</th>\n",
       "      <td>0.431589</td>\n",
       "      <td>0.482988</td>\n",
       "      <td>0.420897</td>\n",
       "      <td>0.434829</td>\n",
       "    </tr>\n",
       "    <tr>\n",
       "      <th>25%</th>\n",
       "      <td>7.890000</td>\n",
       "      <td>8.270000</td>\n",
       "      <td>7.570000</td>\n",
       "      <td>7.910000</td>\n",
       "    </tr>\n",
       "    <tr>\n",
       "      <th>50%</th>\n",
       "      <td>12.050000</td>\n",
       "      <td>12.430000</td>\n",
       "      <td>11.720000</td>\n",
       "      <td>12.020000</td>\n",
       "    </tr>\n",
       "    <tr>\n",
       "      <th>75%</th>\n",
       "      <td>245.260000</td>\n",
       "      <td>257.000000</td>\n",
       "      <td>223.980000</td>\n",
       "      <td>245.990000</td>\n",
       "    </tr>\n",
       "    <tr>\n",
       "      <th>max</th>\n",
       "      <td>1397.480000</td>\n",
       "      <td>1432.880000</td>\n",
       "      <td>1290.600000</td>\n",
       "      <td>1396.420000</td>\n",
       "    </tr>\n",
       "  </tbody>\n",
       "</table>\n",
       "</div>"
      ],
      "text/plain": [
       "              Open         High          Low        Close\n",
       "count   929.000000   929.000000   929.000000   929.000000\n",
       "mean    146.897500   154.363413   139.114778   147.784327\n",
       "std     263.218553   277.620377   247.137437   264.130846\n",
       "min       0.431589     0.482988     0.420897     0.434829\n",
       "25%       7.890000     8.270000     7.570000     7.910000\n",
       "50%      12.050000    12.430000    11.720000    12.020000\n",
       "75%     245.260000   257.000000   223.980000   245.990000\n",
       "max    1397.480000  1432.880000  1290.600000  1396.420000"
      ]
     },
     "execution_count": 3,
     "metadata": {},
     "output_type": "execute_result"
    }
   ],
   "source": [
    "df.describe()"
   ]
  },
  {
   "cell_type": "code",
   "execution_count": 4,
   "metadata": {},
   "outputs": [],
   "source": [
    "df = df[~(df['Date'] < '2015-08-20')]"
   ]
  },
  {
   "cell_type": "code",
   "execution_count": 5,
   "metadata": {},
   "outputs": [
    {
     "data": {
      "text/html": [
       "<div>\n",
       "<style scoped>\n",
       "    .dataframe tbody tr th:only-of-type {\n",
       "        vertical-align: middle;\n",
       "    }\n",
       "\n",
       "    .dataframe tbody tr th {\n",
       "        vertical-align: top;\n",
       "    }\n",
       "\n",
       "    .dataframe thead th {\n",
       "        text-align: right;\n",
       "    }\n",
       "</style>\n",
       "<table border=\"1\" class=\"dataframe\">\n",
       "  <thead>\n",
       "    <tr style=\"text-align: right;\">\n",
       "      <th></th>\n",
       "      <th>Open</th>\n",
       "      <th>High</th>\n",
       "      <th>Low</th>\n",
       "      <th>Close</th>\n",
       "    </tr>\n",
       "  </thead>\n",
       "  <tbody>\n",
       "    <tr>\n",
       "      <th>count</th>\n",
       "      <td>916.000000</td>\n",
       "      <td>916.000000</td>\n",
       "      <td>916.000000</td>\n",
       "      <td>916.000000</td>\n",
       "    </tr>\n",
       "    <tr>\n",
       "      <th>mean</th>\n",
       "      <td>148.961233</td>\n",
       "      <td>156.529696</td>\n",
       "      <td>141.072655</td>\n",
       "      <td>149.862386</td>\n",
       "    </tr>\n",
       "    <tr>\n",
       "      <th>std</th>\n",
       "      <td>264.506477</td>\n",
       "      <td>278.984539</td>\n",
       "      <td>248.335332</td>\n",
       "      <td>265.419227</td>\n",
       "    </tr>\n",
       "    <tr>\n",
       "      <th>min</th>\n",
       "      <td>0.431589</td>\n",
       "      <td>0.482988</td>\n",
       "      <td>0.420897</td>\n",
       "      <td>0.434829</td>\n",
       "    </tr>\n",
       "    <tr>\n",
       "      <th>25%</th>\n",
       "      <td>8.167500</td>\n",
       "      <td>8.530000</td>\n",
       "      <td>7.902500</td>\n",
       "      <td>8.185000</td>\n",
       "    </tr>\n",
       "    <tr>\n",
       "      <th>50%</th>\n",
       "      <td>12.130000</td>\n",
       "      <td>12.495000</td>\n",
       "      <td>11.780000</td>\n",
       "      <td>12.135000</td>\n",
       "    </tr>\n",
       "    <tr>\n",
       "      <th>75%</th>\n",
       "      <td>249.167500</td>\n",
       "      <td>263.110000</td>\n",
       "      <td>236.967500</td>\n",
       "      <td>250.770000</td>\n",
       "    </tr>\n",
       "    <tr>\n",
       "      <th>max</th>\n",
       "      <td>1397.480000</td>\n",
       "      <td>1432.880000</td>\n",
       "      <td>1290.600000</td>\n",
       "      <td>1396.420000</td>\n",
       "    </tr>\n",
       "  </tbody>\n",
       "</table>\n",
       "</div>"
      ],
      "text/plain": [
       "              Open         High          Low        Close\n",
       "count   916.000000   916.000000   916.000000   916.000000\n",
       "mean    148.961233   156.529696   141.072655   149.862386\n",
       "std     264.506477   278.984539   248.335332   265.419227\n",
       "min       0.431589     0.482988     0.420897     0.434829\n",
       "25%       8.167500     8.530000     7.902500     8.185000\n",
       "50%      12.130000    12.495000    11.780000    12.135000\n",
       "75%     249.167500   263.110000   236.967500   250.770000\n",
       "max    1397.480000  1432.880000  1290.600000  1396.420000"
      ]
     },
     "execution_count": 5,
     "metadata": {},
     "output_type": "execute_result"
    }
   ],
   "source": [
    "df.describe()"
   ]
  },
  {
   "cell_type": "code",
   "execution_count": 6,
   "metadata": {},
   "outputs": [],
   "source": [
    "df['Volume'] = df['Volume'].str.replace(',', '')"
   ]
  },
  {
   "cell_type": "code",
   "execution_count": 7,
   "metadata": {},
   "outputs": [],
   "source": [
    "df['Market Cap'] = df['Market Cap'].str.replace(',', '')"
   ]
  },
  {
   "cell_type": "code",
   "execution_count": 8,
   "metadata": {},
   "outputs": [
    {
     "data": {
      "text/plain": [
       "0    2545260000\n",
       "1    2169020000\n",
       "2    2567290000\n",
       "3    2525720000\n",
       "4    2369450000\n",
       "Name: Volume, dtype: object"
      ]
     },
     "execution_count": 8,
     "metadata": {},
     "output_type": "execute_result"
    }
   ],
   "source": [
    "df['Volume'].head()"
   ]
  },
  {
   "cell_type": "code",
   "execution_count": 9,
   "metadata": {},
   "outputs": [
    {
     "data": {
      "text/plain": [
       "0    92206500000\n",
       "1    90047700000\n",
       "2    95077100000\n",
       "3    92264000000\n",
       "4    91272100000\n",
       "Name: Market Cap, dtype: object"
      ]
     },
     "execution_count": 9,
     "metadata": {},
     "output_type": "execute_result"
    }
   ],
   "source": [
    "df['Market Cap'].head()"
   ]
  },
  {
   "cell_type": "code",
   "execution_count": 10,
   "metadata": {},
   "outputs": [],
   "source": [
    "df['Volume'] = pd.to_numeric(df['Volume'], errors='coerce')"
   ]
  },
  {
   "cell_type": "code",
   "execution_count": 11,
   "metadata": {},
   "outputs": [],
   "source": [
    "df['Market Cap'] = pd.to_numeric(df['Market Cap'], errors='coerce')"
   ]
  },
  {
   "cell_type": "code",
   "execution_count": 13,
   "metadata": {},
   "outputs": [
    {
     "data": {
      "text/plain": [
       "Date          datetime64[ns]\n",
       "Open                 float64\n",
       "High                 float64\n",
       "Low                  float64\n",
       "Close                float64\n",
       "Volume                 int64\n",
       "Market Cap             int64\n",
       "dtype: object"
      ]
     },
     "execution_count": 13,
     "metadata": {},
     "output_type": "execute_result"
    }
   ],
   "source": [
    "df.dtypes"
   ]
  },
  {
   "cell_type": "code",
   "execution_count": 14,
   "metadata": {},
   "outputs": [
    {
     "data": {
      "text/plain": [
       "<AxesSubplot:xlabel='Date'>"
      ]
     },
     "execution_count": 14,
     "metadata": {},
     "output_type": "execute_result"
    },
    {
     "data": {
      "image/png": "[encoded data removed]",
      "text/plain": [
       "<Figure size 432x288 with 1 Axes>"
      ]
     },
     "metadata": {
      "needs_background": "light"
     },
     "output_type": "display_data"
    }
   ],
   "source": [
    "df1 = df[['Date','Open']]\n",
    "df1_ts = df1.set_index('Date')\n",
    "df1_ts.sort_index(inplace=True)\n",
    "df1_ts.plot()"
   ]
  },
  {
   "cell_type": "code",
   "execution_count": 15,
   "metadata": {},
   "outputs": [],
   "source": [
    "df.rename(columns = {'Market Cap':'Market_Cap'}, inplace = True) "
   ]
  },
  {
   "cell_type": "code",
   "execution_count": 16,
   "metadata": {},
   "outputs": [
    {
     "data": {
      "text/html": [
       "<div>\n",
       "<style scoped>\n",
       "    .dataframe tbody tr th:only-of-type {\n",
       "        vertical-align: middle;\n",
       "    }\n",
       "\n",
       "    .dataframe tbody tr th {\n",
       "        vertical-align: top;\n",
       "    }\n",
       "\n",
       "    .dataframe thead th {\n",
       "        text-align: right;\n",
       "    }\n",
       "</style>\n",
       "<table border=\"1\" class=\"dataframe\">\n",
       "  <thead>\n",
       "    <tr style=\"text-align: right;\">\n",
       "      <th></th>\n",
       "      <th>Date</th>\n",
       "      <th>Open</th>\n",
       "      <th>High</th>\n",
       "      <th>Low</th>\n",
       "      <th>Close</th>\n",
       "      <th>Volume</th>\n",
       "      <th>Market_Cap</th>\n",
       "    </tr>\n",
       "  </thead>\n",
       "  <tbody>\n",
       "    <tr>\n",
       "      <th>0</th>\n",
       "      <td>2018-02-20</td>\n",
       "      <td>943.57</td>\n",
       "      <td>965.26</td>\n",
       "      <td>892.95</td>\n",
       "      <td>895.37</td>\n",
       "      <td>2545260000</td>\n",
       "      <td>92206500000</td>\n",
       "    </tr>\n",
       "    <tr>\n",
       "      <th>1</th>\n",
       "      <td>2018-02-19</td>\n",
       "      <td>921.67</td>\n",
       "      <td>957.78</td>\n",
       "      <td>921.55</td>\n",
       "      <td>943.87</td>\n",
       "      <td>2169020000</td>\n",
       "      <td>90047700000</td>\n",
       "    </tr>\n",
       "    <tr>\n",
       "      <th>2</th>\n",
       "      <td>2018-02-18</td>\n",
       "      <td>973.35</td>\n",
       "      <td>982.93</td>\n",
       "      <td>915.45</td>\n",
       "      <td>923.92</td>\n",
       "      <td>2567290000</td>\n",
       "      <td>95077100000</td>\n",
       "    </tr>\n",
       "    <tr>\n",
       "      <th>3</th>\n",
       "      <td>2018-02-17</td>\n",
       "      <td>944.75</td>\n",
       "      <td>976.60</td>\n",
       "      <td>940.75</td>\n",
       "      <td>974.12</td>\n",
       "      <td>2525720000</td>\n",
       "      <td>92264000000</td>\n",
       "    </tr>\n",
       "    <tr>\n",
       "      <th>4</th>\n",
       "      <td>2018-02-16</td>\n",
       "      <td>934.79</td>\n",
       "      <td>950.00</td>\n",
       "      <td>917.85</td>\n",
       "      <td>944.21</td>\n",
       "      <td>2369450000</td>\n",
       "      <td>91272100000</td>\n",
       "    </tr>\n",
       "  </tbody>\n",
       "</table>\n",
       "</div>"
      ],
      "text/plain": [
       "        Date    Open    High     Low   Close      Volume   Market_Cap\n",
       "0 2018-02-20  943.57  965.26  892.95  895.37  2545260000  92206500000\n",
       "1 2018-02-19  921.67  957.78  921.55  943.87  2169020000  90047700000\n",
       "2 2018-02-18  973.35  982.93  915.45  923.92  2567290000  95077100000\n",
       "3 2018-02-17  944.75  976.60  940.75  974.12  2525720000  92264000000\n",
       "4 2018-02-16  934.79  950.00  917.85  944.21  2369450000  91272100000"
      ]
     },
     "execution_count": 16,
     "metadata": {},
     "output_type": "execute_result"
    }
   ],
   "source": [
    "df.head()"
   ]
  },
  {
   "cell_type": "code",
   "execution_count": null,
   "metadata": {},
   "outputs": [],
   "source": []
  }
 ],
 "metadata": {
  "kernelspec": {
   "display_name": "Python 3",
   "language": "python",
   "name": "python3"
  },
  "language_info": {
   "codemirror_mode": {
    "name": "ipython",
    "version": 3
   },
   "file_extension": ".py",
   "mimetype": "text/x-python",
   "name": "python",
   "nbconvert_exporter": "python",
   "pygments_lexer": "ipython3",
   "version": "3.8.5"
  }
 },
 "nbformat": 4,
 "nbformat_minor": 4
}
